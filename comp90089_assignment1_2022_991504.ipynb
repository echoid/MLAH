{
 "cells": [
  {
   "cell_type": "markdown",
   "metadata": {},
   "source": [
    "## COMP90089 Assignment1\n"
   ]
  },
  {
   "cell_type": "markdown",
   "metadata": {},
   "source": [
    "### Question 1 \n",
    "**List the criteria used by clinicians to define Hypotension.**\n",
    "\n",
    "Hypotension is one of the features of shock. It occurs in the majority of patients with shock. \n",
    "\n",
    "\n",
    "Hypotension may be \n",
    "* absolute (eg, systolic blood pressure <90 mmHg; mean arterial pressure <65 mmHg), \n",
    "* relative (eg, a drop in systolic blood pressure >40 mmHg), \n",
    "* orthostatic (>20 mmHg fall in systolic pressure or >10 mmHg fall in diastolic pressure with standing), or \n",
    "* profound (eg, vasopressor-dependent). \n",
    "\n",
    "Not every patient who has hypotension has shock (eg, chronic hypotension, autonomic dysfunction, vasovagal syncope, peripheral vascular disease)\n",
    "\n",
    "\n",
    "### Question 2\n",
    "**List the International Classification of Diseases (ICD) codes used to describe hypotension**\n",
    "\n",
    "* I95 Hypotension\n",
    "* I95.0 Idiopathic hypotension\n",
    "* I95.1 Orthostatic hypotension\n",
    "* I95.2 Hypotension due to drugs\n",
    "* I95.8 Other hypotension, Chronic hypotension\n",
    "* I95.9 Hypotension, unspecified\n",
    "\n",
    "\n",
    "### Question 3\n",
    "\n",
    "**ind the concept that would match the ICD-10 code for hypotension. Is there a perfect match? Please describe the potential pros and cons of\n",
    "mapping between one terminology (ICD codes) and another (SNOMED-CT) when doing a data analysis project that requires linking data from more than one source.**\n",
    "\n",
    "\n",
    "There is not a perfect match, since there are 5 sub-diseases under Hypotension in ICD codes, but 13 sub-diseases under Hypotension in SNOMED-CT.\n",
    "The ICD code is more general, it has a category called **other hypotension** to collect relative rare hypotension like Chronic hypotension. The SNOMED-CT is designed for input into EHRs, the terms are quite detailed to be used for reporting. ICD-10 is a classification designed for output or reports\n",
    "\n",
    "For data linkage task,\n",
    "Pros\n",
    "* Both use Hierarchical structure, clear show the relationshiop of hypotension and its sub-disease\n",
    "* \n",
    "\n",
    "Cons"
   ]
  },
  {
   "cell_type": "markdown",
   "metadata": {},
   "source": [
    "\n",
    "![title](SNOMED.png)"
   ]
  },
  {
   "cell_type": "markdown",
   "metadata": {},
   "source": []
  }
 ],
 "metadata": {
  "kernelspec": {
   "display_name": "Python 3.9.4 64-bit",
   "language": "python",
   "name": "python3"
  },
  "language_info": {
   "name": "python",
   "version": "3.9.4"
  },
  "orig_nbformat": 4,
  "vscode": {
   "interpreter": {
    "hash": "47e86d731e077963188d400b641a1f5cee6401b89b8a1175acb1a082248e2517"
   }
  }
 },
 "nbformat": 4,
 "nbformat_minor": 2
}
